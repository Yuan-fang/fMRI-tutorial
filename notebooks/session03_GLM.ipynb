{
 "cells": [
  {
   "cell_type": "markdown",
   "id": "803c921f",
   "metadata": {},
   "source": [
    "# Session 03\n",
    "\n",
    "*Minimal teaching template for Colab.*"
   ]
  },
  {
   "cell_type": "markdown",
   "id": "d14d730f",
   "metadata": {},
   "source": [
    "\n",
    "> **Instructions**  \n",
    "> 1) **File → Save a copy in Drive** (this is your personal copy).  \n",
    "> 2) Run the **Install** cell once per session.  \n",
    "> 3) Fill in the cells marked **YOUR CODE**.  \n",
    "> 4) Use the **Save outputs** cell before you submit.\n"
   ]
  },
  {
   "cell_type": "code",
   "execution_count": null,
   "id": "53cdb446",
   "metadata": {},
   "outputs": [],
   "source": [
    "\n",
    "# === Install (per-session, inside Colab VM) ===\n",
    "%pip -q install --upgrade nilearn nibabel pybids\n",
    "\n",
    "import numpy as np, pandas as pd\n",
    "import matplotlib.pyplot as plt\n",
    "import nilearn, nibabel as nib\n",
    "from pathlib import Path\n",
    "\n",
    "print(\"Ready. nilearn\", nilearn.__version__)\n"
   ]
  },
  {
   "cell_type": "markdown",
   "id": "e0ab56b8",
   "metadata": {},
   "source": [
    "## Parameters"
   ]
  },
  {
   "cell_type": "code",
   "execution_count": null,
   "id": "4d5869ae",
   "metadata": {},
   "outputs": [],
   "source": [
    "TR = 2.0\n",
    "smoothing_fwhm = 5.0"
   ]
  },
  {
   "cell_type": "markdown",
   "id": "c97f5903",
   "metadata": {},
   "source": [
    "## Example (instructor-provided)\n",
    "Describe the example briefly, then run a small demo."
   ]
  },
  {
   "cell_type": "code",
   "execution_count": null,
   "id": "febea4c9",
   "metadata": {},
   "outputs": [],
   "source": [
    "# Example demo code goes here"
   ]
  },
  {
   "cell_type": "markdown",
   "id": "0596ef65",
   "metadata": {},
   "source": [
    "## 🧪 Practice 1 — YOUR CODE"
   ]
  },
  {
   "cell_type": "code",
   "execution_count": null,
   "id": "44254d12",
   "metadata": {},
   "outputs": [],
   "source": [
    "# TODO: student's code here"
   ]
  },
  {
   "cell_type": "markdown",
   "id": "6cc95cc9",
   "metadata": {},
   "source": [
    "## 🧪 Practice 2 — YOUR CODE"
   ]
  },
  {
   "cell_type": "code",
   "execution_count": null,
   "id": "44311500",
   "metadata": {},
   "outputs": [],
   "source": [
    "# TODO: student's code here"
   ]
  },
  {
   "cell_type": "markdown",
   "id": "07d88b66",
   "metadata": {},
   "source": [
    "## Save outputs"
   ]
  },
  {
   "cell_type": "code",
   "execution_count": null,
   "id": "dbefdbbe",
   "metadata": {},
   "outputs": [],
   "source": [
    "\n",
    "out = Path(\"outputs\"); out.mkdir(exist_ok=True)\n",
    "# Example saves:\n",
    "# fig = plt.figure(); plt.plot([0,1]); fig.savefig(out/\"figure1.png\")\n",
    "print(\"Saved:\", [p.name for p in out.glob(\"*\")])\n"
   ]
  }
 ],
 "metadata": {
  "colab": {
   "name": "Session 03",
   "provenance": []
  },
  "kernelspec": {
   "display_name": "Python 3",
   "name": "python3"
  }
 },
 "nbformat": 4,
 "nbformat_minor": 5
}

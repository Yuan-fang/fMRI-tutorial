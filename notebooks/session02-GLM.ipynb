{
 "cells": [
  {
   "cell_type": "markdown",
   "id": "d14d730f",
   "metadata": {},
   "source": [
    "Please run the cell below for the runtime of each notebook. It will import necessary packages that you require to go through this tutorial."
   ]
  },
  {
   "cell_type": "code",
   "execution_count": null,
   "id": "53cdb446",
   "metadata": {},
   "outputs": [],
   "source": [
    "# --- Basic Setup (always run this first) ---\n",
    "\n",
    "# Install dependencies \n",
    "%pip install -q gdown\n",
    "%pip install -q git+https://github.com/Yuan-fang/fMRI-tutorial.git\n",
    "\n",
    "# Import essential packages\n",
    "import warnings\n",
    "from pathlib import Path\n",
    "import shutil\n",
    "import module\n",
    "from nilearn import image, plotting\n",
    "from nilearn.image import index_img\n",
    "from bids import BIDSLayout\n",
    "import numpy as np\n",
    "import os\n",
    "import matplotlib.pyplot as plt\n",
    "\n",
    "from tutorial.utils.paths import PathManager\n",
    "from tutorial.utils.fetch import fetch_dataset\n",
    "\n",
    "warnings.filterwarnings(\"ignore\")\n"
   ]
  },
  {
   "cell_type": "markdown",
   "id": "57b4af52",
   "metadata": {},
   "source": [
    "We also need to set up data directories. You can change to other directories and names according to your preference. But for this tutorial, let's stick with the same data directories."
   ]
  },
  {
   "cell_type": "code",
   "execution_count": null,
   "id": "93b4e80f",
   "metadata": {},
   "outputs": [],
   "source": [
    "# --- Set up data directories ---\n",
    "\n",
    "DATASET = \"Haxby2001\" # name of the dataset\n",
    "BASE_DIR = Path.home() / \"fmri_tutorial\" # base directory for the tutorial\n",
    "DATA_DIR = BASE_DIR / \"data\" / DATASET # data directory for the dataset\n",
    "DERIV_DIR = BASE_DIR / \"data\" / \"derivatives\" # derivatives directory for processed data\n",
    "\n",
    "for p in (DATA_DIR, DERIV_DIR):\n",
    "    p.mkdir(parents=True, exist_ok=True)"
   ]
  },
  {
   "cell_type": "code",
   "execution_count": null,
   "id": "e5809e94",
   "metadata": {},
   "outputs": [],
   "source": [
    "# --- Download dataset if not already present ---\n",
    "\n",
    "# Google Drive link to the dataset\n",
    "download_url = \"https://drive.google.com/uc?id=1fPjbWhY6ZDOGSm59duKmOcCpgp5Zf5tX\"\n",
    "fetch_dataset(download_url, DATA_DIR)"
   ]
  }
 ],
 "metadata": {
  "colab": {
   "name": "Session 03",
   "provenance": []
  },
  "kernelspec": {
   "display_name": "Python 3",
   "name": "python3"
  }
 },
 "nbformat": 4,
 "nbformat_minor": 5
}

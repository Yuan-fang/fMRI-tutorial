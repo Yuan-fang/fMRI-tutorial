{
 "cells": [
  {
   "cell_type": "markdown",
   "id": "d7bac63c",
   "metadata": {},
   "source": [
    "# Session 04\n",
    "\n",
    "*Minimal teaching template for Colab.*"
   ]
  },
  {
   "cell_type": "markdown",
   "id": "fe06c71b",
   "metadata": {},
   "source": [
    "\n",
    "> **Instructions**  \n",
    "> 1) **File → Save a copy in Drive** (this is your personal copy).  \n",
    "> 2) Run the **Install** cell once per session.  \n",
    "> 3) Fill in the cells marked **YOUR CODE**.  \n",
    "> 4) Use the **Save outputs** cell before you submit.\n"
   ]
  },
  {
   "cell_type": "code",
   "execution_count": null,
   "id": "a8f95aba",
   "metadata": {},
   "outputs": [],
   "source": [
    "\n",
    "# === Install (per-session, inside Colab VM) ===\n",
    "%pip -q install --upgrade nilearn nibabel pybids\n",
    "\n",
    "import numpy as np, pandas as pd\n",
    "import matplotlib.pyplot as plt\n",
    "import nilearn, nibabel as nib\n",
    "from pathlib import Path\n",
    "\n",
    "print(\"Ready. nilearn\", nilearn.__version__)\n"
   ]
  },
  {
   "cell_type": "markdown",
   "id": "49c5acfd",
   "metadata": {},
   "source": [
    "## Parameters"
   ]
  },
  {
   "cell_type": "code",
   "execution_count": null,
   "id": "4b629ba4",
   "metadata": {},
   "outputs": [],
   "source": [
    "TR = 2.0\n",
    "smoothing_fwhm = 5.0"
   ]
  },
  {
   "cell_type": "markdown",
   "id": "e981bf76",
   "metadata": {},
   "source": [
    "## Example (instructor-provided)\n",
    "Describe the example briefly, then run a small demo."
   ]
  },
  {
   "cell_type": "code",
   "execution_count": null,
   "id": "42d86441",
   "metadata": {},
   "outputs": [],
   "source": [
    "# Example demo code goes here"
   ]
  },
  {
   "cell_type": "markdown",
   "id": "301092d6",
   "metadata": {},
   "source": [
    "## 🧪 Practice 1 — YOUR CODE"
   ]
  },
  {
   "cell_type": "code",
   "execution_count": null,
   "id": "289ec4f8",
   "metadata": {},
   "outputs": [],
   "source": [
    "# TODO: student's code here"
   ]
  },
  {
   "cell_type": "markdown",
   "id": "00dc0f50",
   "metadata": {},
   "source": [
    "## 🧪 Practice 2 — YOUR CODE"
   ]
  },
  {
   "cell_type": "code",
   "execution_count": null,
   "id": "26f9558e",
   "metadata": {},
   "outputs": [],
   "source": [
    "# TODO: student's code here"
   ]
  },
  {
   "cell_type": "markdown",
   "id": "ba2e80a5",
   "metadata": {},
   "source": [
    "## Save outputs"
   ]
  },
  {
   "cell_type": "code",
   "execution_count": null,
   "id": "4bbc67bd",
   "metadata": {},
   "outputs": [],
   "source": [
    "\n",
    "out = Path(\"outputs\"); out.mkdir(exist_ok=True)\n",
    "# Example saves:\n",
    "# fig = plt.figure(); plt.plot([0,1]); fig.savefig(out/\"figure1.png\")\n",
    "print(\"Saved:\", [p.name for p in out.glob(\"*\")])\n"
   ]
  }
 ],
 "metadata": {
  "colab": {
   "name": "Session 04",
   "provenance": []
  },
  "kernelspec": {
   "display_name": "Python 3",
   "name": "python3"
  }
 },
 "nbformat": 4,
 "nbformat_minor": 5
}
